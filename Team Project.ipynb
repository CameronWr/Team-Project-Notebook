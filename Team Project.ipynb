{
 "cells": [
  {
   "cell_type": "markdown",
   "metadata": {},
   "source": [
    "Cameron Wright  \n",
    "Dr. William Shoaff  \n",
    "CSE4081 - Analysis of Algorithms\\\n",
    "21st of April 2021  \n",
    "<center> <h1>Team Project: Quick Sort Analysis</h1> </center>"
   ]
  },
  {
   "cell_type": "code",
   "execution_count": 1,
   "metadata": {
    "scrolled": false
   },
   "outputs": [],
   "source": [
    "from sys import stdout, stderr, getrecursionlimit, _getframe # Standard Out, Error Out, Stack limit, Current frame\n",
    "from itertools import count                                  # Get number of element in variable \n",
    "from copy import deepcopy                                    # Copy content instead of pointing\n",
    "from random import choice, sample, randrange                 # Random int list, Unqiue random int array, Random int [a,b]"
   ]
  },
  {
   "cell_type": "code",
   "execution_count": 2,
   "metadata": {
    "scrolled": true
   },
   "outputs": [
    {
     "name": "stdout",
     "output_type": "stream",
     "text": [
      "Python implementation: CPython\n",
      "Python version       : 3.8.8\n",
      "IPython version      : 7.22.0\n",
      "\n"
     ]
    }
   ],
   "source": [
    "# Display all versions being used\n",
    "%load_ext watermark\n",
    "%watermark -v -iv"
   ]
  },
  {
   "cell_type": "markdown",
   "metadata": {},
   "source": [
    "## Scaffolding Functions"
   ]
  },
  {
   "cell_type": "markdown",
   "metadata": {},
   "source": [
    "### Input"
   ]
  },
  {
   "cell_type": "code",
   "execution_count": 3,
   "metadata": {},
   "outputs": [],
   "source": [
    "# Generating sets of input arrays of length n (100, 1,000, ..., 10,000,000)\n",
    "# containing integers 0 to (n-1).\n",
    "\n",
    "# Unique random elements\n",
    "uRandomArrays = [sample(range(0, 100), 100), \n",
    "                 sample(range(0, 1000), 1000), \n",
    "                 sample(range(0, 10000), 10000),\n",
    "                 sample(range(0, 100000), 100000),\n",
    "                 sample(range(0, 1000000), 1000000), \n",
    "                 sample(range(0, 10000000), 10000000)]\n",
    "\n",
    "# Duplicate random elements\n",
    "dRandomArrays = [[choice(range(100)) for i in range(100)], \n",
    "                 [choice(range(1000)) for i in range(1000)], \n",
    "                 [choice(range(10000)) for i in range(10000)],\n",
    "                 [choice(range(100000)) for i in range(100000)],\n",
    "                 [choice(range(1000000)) for i in range(1000000)], \n",
    "                 [choice(range(10000000)) for i in range(10000000)]]\n",
    "\n",
    "# Sorted elements\n",
    "sortedArrays = [sorted(sample(range(0, 100), 100)), \n",
    "                sorted(sample(range(0, 1000), 1000)), \n",
    "                sorted(sample(range(0, 10000), 10000)),\n",
    "                sorted(sample(range(0, 100000), 100000)),\n",
    "                sorted(sample(range(0, 1000000), 1000000)), \n",
    "                sorted(sample(range(0, 10000000), 10000000))]"
   ]
  },
  {
   "cell_type": "code",
   "execution_count": 4,
   "metadata": {},
   "outputs": [],
   "source": [
    "# Check if array is sorted\n",
    "def isSorted(array):\n",
    "    for e in range(len(array) - 1):\n",
    "        if array[e] > array[e + 1]:\n",
    "            stderr.write(\"Array not sorted: %d > %d\\n\" % (array[e], array[e + 1]) )\n",
    "            return"
   ]
  },
  {
   "cell_type": "markdown",
   "metadata": {},
   "source": [
    "### Stack (space )"
   ]
  },
  {
   "cell_type": "code",
   "execution_count": 5,
   "metadata": {},
   "outputs": [],
   "source": [
    "# Get current stack depth\n",
    "def stackSize(size=2):\n",
    "    frame = _getframe(size)\n",
    "\n",
    "    for size in count(size):\n",
    "        # Stop kernel from dying from stack overflow\n",
    "        if size > limit[0] - 500:\n",
    "            stderr.write(\"Stopped approaching max depth.\")\n",
    "            return -1\n",
    "        \n",
    "        frame = frame.f_back\n",
    "        if not frame:\n",
    "            return size"
   ]
  },
  {
   "cell_type": "code",
   "execution_count": 6,
   "metadata": {},
   "outputs": [],
   "source": [
    "# Redeclared to record stacksize\n",
    "def qsStack(array, lower, upper):\n",
    "    if lower < upper:\n",
    "        if stackSize() == -1:\n",
    "            return\n",
    "        elif maxStack[0] < stackSize():\n",
    "            maxStack[0] = stackSize()\n",
    "\n",
    "        pivot = hoaresPartition(array, lower, upper)\n",
    "\n",
    "        qsStack(array, lower, pivot)\n",
    "        qsStack(array, pivot + 1, upper)"
   ]
  },
  {
   "cell_type": "code",
   "execution_count": 7,
   "metadata": {},
   "outputs": [],
   "source": [
    "# Run quickSort & return max depth\n",
    "def getDepths(arrays):\n",
    "    for x in range(len(arrays)):\n",
    "        maxStack[0] = stackSize()\n",
    "        qsStack(arrays[x], 0, len(arrays[x]) - 1)\n",
    "        stdout.write(\"%d\\n\" % maxStack[0])"
   ]
  },
  {
   "cell_type": "markdown",
   "metadata": {},
   "source": [
    "## Sorting Functions"
   ]
  },
  {
   "cell_type": "markdown",
   "metadata": {},
   "source": [
    "### Quicksort"
   ]
  },
  {
   "cell_type": "code",
   "execution_count": 8,
   "metadata": {},
   "outputs": [],
   "source": [
    "def hoaresPartition(array, lower, upper):\n",
    "    pivot = array[lower]\n",
    "    i = lower - 1\n",
    "    j = upper + 1\n",
    "\n",
    "    while True:\n",
    "        j -= 1\n",
    "        while array[j] > pivot:\n",
    "            j -= 1\n",
    "\n",
    "        i += 1\n",
    "        while array[i] < pivot:\n",
    "            i += 1\n",
    "\n",
    "        if i < j:\n",
    "            array[i], array[j] = array[j], array[i]\n",
    "        else:\n",
    "            return j\n",
    "\n",
    "# Original Hoares Partition Quicksort\n",
    "def quickSort(array, lower, upper):\n",
    "    if lower < upper:\n",
    "        pivot = hoaresPartition(array, lower, upper)\n",
    "\n",
    "        quickSort(array, lower, pivot)\n",
    "        quickSort(array, pivot + 1, upper)"
   ]
  },
  {
   "cell_type": "code",
   "execution_count": 9,
   "metadata": {},
   "outputs": [],
   "source": [
    "# Time & check quickSort\n",
    "def timeQS(arrays):\n",
    "    for x in range(len(arrays)):\n",
    "        # %timeit -<loops> -<repeats> -<precision>\n",
    "        %timeit -n1 -r1 -p8 quickSort(arrays[x], 0, len(arrays[x])-1)\n",
    "        \n",
    "        # Ensure array sorted\n",
    "        isSorted(arrays[x])"
   ]
  },
  {
   "cell_type": "markdown",
   "metadata": {},
   "source": [
    "### Caparison Sorting Algorithms"
   ]
  },
  {
   "cell_type": "markdown",
   "metadata": {},
   "source": [
    "**Standard Merge Sort**"
   ]
  },
  {
   "cell_type": "code",
   "execution_count": 10,
   "metadata": {},
   "outputs": [],
   "source": [
    "def mergeSort(array):\n",
    "    if len(array) > 1:\n",
    "        # Divide array\n",
    "        middle = len(array)//2\n",
    "        lower, upper = array[:middle], array[middle:]\n",
    "\n",
    "        # Sort subarray\n",
    "        mergeSort(lower)\n",
    "        mergeSort(upper)\n",
    " \n",
    "        i = j = k = 0\n",
    " \n",
    "        while i < len(lower) and j < len(upper):\n",
    "            if lower[i] < upper[j]:\n",
    "                array[k] = lower[i]\n",
    "                i += 1\n",
    "            else:\n",
    "                array[k] = upper[j]\n",
    "                j += 1\n",
    "            k += 1\n",
    " \n",
    "        while i < len(lower):\n",
    "            array[k] = lower[i]\n",
    "            k += 1\n",
    "            i += 1\n",
    " \n",
    "        while j < len(upper):\n",
    "            array[k] = upper[j]\n",
    "            k += 1\n",
    "            j += 1      "
   ]
  },
  {
   "cell_type": "code",
   "execution_count": 11,
   "metadata": {},
   "outputs": [],
   "source": [
    "# Time & check mergeSort\n",
    "def timeMerge(arrays):\n",
    "    for x in range(len(arrays)):\n",
    "        # %timeit -<loops> -<repeats> -<precision>\n",
    "        %timeit -n1 -r1 -p8 mergeSort(arrays[x])\n",
    "\n",
    "        # Ensure array sorted\n",
    "        isSorted(arrays[x])"
   ]
  },
  {
   "cell_type": "markdown",
   "metadata": {},
   "source": [
    "**Randomized Pivot Hoares Parition Quicksort**"
   ]
  },
  {
   "cell_type": "code",
   "execution_count": 12,
   "metadata": {},
   "outputs": [],
   "source": [
    "# Hoare partition using a random pivot\n",
    "def partitionRand(array , lower, upper):\n",
    "    # Picking random pivot location\n",
    "    pivot = randrange(lower, upper)\n",
    "\n",
    "    array[lower], array[pivot] = array[pivot], array[lower]\n",
    "    \n",
    "    pivot = lower\n",
    "    i, j  = lower - 1, upper + 1\n",
    "    while True:\n",
    "            i += 1\n",
    "            if array[i] >= array[pivot]:\n",
    "                \n",
    "            j -= 1\n",
    "            if array[j] <= array[pivot]:\n",
    "                \n",
    "        if i >= j:\n",
    "            return j\n",
    "        \n",
    "        array[i] , array[j] = array[j] , array[i]\n",
    "\n",
    "def quickSortRand(array, lower, upper):\n",
    "    if(lower < upper):\n",
    "        pivotIndex = partitionRand(array, lower, upper)\n",
    "\n",
    "        quickSortRand(array , lower , pivotIndex)\n",
    "        quickSortRand(array, pivotIndex + 1, upper)"
   ]
  },
  {
   "cell_type": "code",
   "execution_count": 13,
   "metadata": {},
   "outputs": [],
   "source": [
    "# Time & check quickSortRand\n",
    "def timeQSR(arrays):\n",
    "    for x in range(len(arrays)):\n",
    "        # %timeit -<loops> -<repeats> -<precision>\n",
    "        %timeit -n1 -r1 -p8 quickSortRand(arrays[x], 0, len(arrays[x])-1)\n",
    "\n",
    "        # Ensure array sorted\n",
    "        isSorted(arrays[x])"
   ]
  },
  {
   "cell_type": "markdown",
   "metadata": {},
   "source": [
    "**Insertion Sort + Lomuto Partition Quicksort**"
   ]
  },
  {
   "cell_type": "code",
   "execution_count": 14,
   "metadata": {},
   "outputs": [],
   "source": [
    "def insertionSort(array, lower, upper):\n",
    "    for i in range(lower + 1, upper + 1):\n",
    "        currentValue = array[i]\n",
    "        j = i\n",
    "        while j > lower and array[j - 1]> currentValue:\n",
    "            array[j] = array[j - 1]\n",
    "            j -= 1\n",
    "        array[j] = currentValue\n",
    "\n",
    "# Partition using upper as pivot\n",
    "def partition(array, low, upper):\n",
    "    pivot = array[upper]\n",
    "    i = j = low\n",
    "    \n",
    "    for i in range(low, upper):\n",
    "        if array[i] < pivot:\n",
    "            array[i], array[j] = array[j], array[i]\n",
    "            j+= 1\n",
    "    \n",
    "    array[j], array[upper] = array[upper], array[j]\n",
    "    return j\n",
    "\n",
    "# Hybrid sort that uses quick sort on sub arrays lenght > threshold, else interstion sort\n",
    "# only calls quick sort on smaller parition\n",
    "def quickInsertion(array, lower, upper):\n",
    "    while lower < upper:\n",
    "        # Begin iterative solution if subarray < threshold\n",
    "        if upper - lower + 1 < 11:\n",
    "            insertionSort(array, lower, upper)\n",
    "            break\n",
    "  \n",
    "        else:\n",
    "            pivot = partition(array, lower, upper)\n",
    "            \n",
    "            # Call on smaller subarrayay\n",
    "            if pivot - lower < upper - pivot:\n",
    "                quickInsertion(array, lower, pivot - 1)\n",
    "                lower = pivot + 1\n",
    "            else:\n",
    "                quickInsertion(array, pivot + 1, upper)\n",
    "                upper = pivot - 1"
   ]
  },
  {
   "cell_type": "code",
   "execution_count": 15,
   "metadata": {},
   "outputs": [],
   "source": [
    "# Time & check quickInsertion\n",
    "def timeQI(arrays):\n",
    "    for x in range(len(arrays)):\n",
    "        # %timeit -<loops> -<repeats> -<precision>\n",
    "        %timeit -n1 -r1 -p8 quickInsertion(arrays[x], 0, len(arrays[x])-1)\n",
    "\n",
    "        # Ensure array sorted\n",
    "        isSorted(arrays[x])"
   ]
  },
  {
   "cell_type": "markdown",
   "metadata": {},
   "source": [
    "___\n",
    "# Results"
   ]
  },
  {
   "cell_type": "markdown",
   "metadata": {},
   "source": [
    "**Output Format:** \\\n",
    "*100 Array* \\\n",
    "*1,000 Array* \\\n",
    "*...* \\\n",
    "*10,000,000 Array*"
   ]
  },
  {
   "cell_type": "markdown",
   "metadata": {},
   "source": [
    "### Time"
   ]
  },
  {
   "cell_type": "markdown",
   "metadata": {},
   "source": [
    "**Quicksort**"
   ]
  },
  {
   "cell_type": "code",
   "execution_count": 16,
   "metadata": {},
   "outputs": [
    {
     "name": "stdout",
     "output_type": "stream",
     "text": [
      "69.2 µs ± 0 ns per loop (mean ± std. dev. of 1 run, 1 loop each)\n",
      "1.0044 ms ± 0 ns per loop (mean ± std. dev. of 1 run, 1 loop each)\n",
      "12.4381 ms ± 0 ns per loop (mean ± std. dev. of 1 run, 1 loop each)\n",
      "153.4076 ms ± 0 ns per loop (mean ± std. dev. of 1 run, 1 loop each)\n",
      "2.0091355 s ± 0 ns per loop (mean ± std. dev. of 1 run, 1 loop each)\n",
      "26.316051 s ± 0 ns per loop (mean ± std. dev. of 1 run, 1 loop each)\n"
     ]
    }
   ],
   "source": [
    "# Unique random arrays\n",
    "hundred, thous, tenthous, hunderedthous, mill, tenmill = deepcopy(uRandomArrays)\n",
    "timeQS([hundred, thous, tenthous, hunderedthous, mill, tenmill])"
   ]
  },
  {
   "cell_type": "code",
   "execution_count": 17,
   "metadata": {},
   "outputs": [
    {
     "name": "stdout",
     "output_type": "stream",
     "text": [
      "71.1 µs ± 0 ns per loop (mean ± std. dev. of 1 run, 1 loop each)\n",
      "994.6 µs ± 0 ns per loop (mean ± std. dev. of 1 run, 1 loop each)\n",
      "12.6172 ms ± 0 ns per loop (mean ± std. dev. of 1 run, 1 loop each)\n",
      "161.4804 ms ± 0 ns per loop (mean ± std. dev. of 1 run, 1 loop each)\n",
      "2.0921547 s ± 0 ns per loop (mean ± std. dev. of 1 run, 1 loop each)\n",
      "27.562176 s ± 0 ns per loop (mean ± std. dev. of 1 run, 1 loop each)\n"
     ]
    }
   ],
   "source": [
    "# Duplicate random elements\n",
    "hundred, thous, tenthous, hunderedthous, mill, tenmill = deepcopy(dRandomArrays)\n",
    "timeQS([hundred, thous, tenthous, hunderedthous, mill, tenmill])"
   ]
  },
  {
   "cell_type": "code",
   "execution_count": 18,
   "metadata": {},
   "outputs": [
    {
     "name": "stdout",
     "output_type": "stream",
     "text": [
      "189.6 µs ± 0 ns per loop (mean ± std. dev. of 1 run, 1 loop each)\n",
      "19.678 ms ± 0 ns per loop (mean ± std. dev. of 1 run, 1 loop each)\n"
     ]
    }
   ],
   "source": [
    "# Sorted arrays (10,000+ exceeds call stack depth, see space results)\n",
    "hundred, thous, tenthous, hunderedthous, mill, tenmill = deepcopy(sortedArrays)\n",
    "timeQS([hundred, thous])"
   ]
  },
  {
   "cell_type": "markdown",
   "metadata": {},
   "source": [
    "**Merge Sort**"
   ]
  },
  {
   "cell_type": "code",
   "execution_count": 19,
   "metadata": {},
   "outputs": [
    {
     "name": "stdout",
     "output_type": "stream",
     "text": [
      "143.2 µs ± 0 ns per loop (mean ± std. dev. of 1 run, 1 loop each)\n",
      "1.668 ms ± 0 ns per loop (mean ± std. dev. of 1 run, 1 loop each)\n",
      "22.0866 ms ± 0 ns per loop (mean ± std. dev. of 1 run, 1 loop each)\n",
      "283.4106 ms ± 0 ns per loop (mean ± std. dev. of 1 run, 1 loop each)\n",
      "3.9234284 s ± 0 ns per loop (mean ± std. dev. of 1 run, 1 loop each)\n",
      "53.60021 s ± 0 ns per loop (mean ± std. dev. of 1 run, 1 loop each)\n"
     ]
    }
   ],
   "source": [
    "# Unique random arrays\n",
    "hundred, thous, tenthous, hunderedthous, mill, tenmill = deepcopy(uRandomArrays)\n",
    "timeMerge([hundred, thous, tenthous, hunderedthous, mill, tenmill])"
   ]
  },
  {
   "cell_type": "code",
   "execution_count": 20,
   "metadata": {},
   "outputs": [
    {
     "name": "stdout",
     "output_type": "stream",
     "text": [
      "119 µs ± 0 ns per loop (mean ± std. dev. of 1 run, 1 loop each)\n",
      "1.5753 ms ± 0 ns per loop (mean ± std. dev. of 1 run, 1 loop each)\n",
      "21.499 ms ± 0 ns per loop (mean ± std. dev. of 1 run, 1 loop each)\n",
      "272.7827 ms ± 0 ns per loop (mean ± std. dev. of 1 run, 1 loop each)\n",
      "3.5102162 s ± 0 ns per loop (mean ± std. dev. of 1 run, 1 loop each)\n",
      "44.580651 s ± 0 ns per loop (mean ± std. dev. of 1 run, 1 loop each)\n"
     ]
    }
   ],
   "source": [
    "# Duplicate random elements\n",
    "hundred, thous, tenthous, hunderedthous, mill, tenmill = deepcopy(dRandomArrays)\n",
    "timeMerge([hundred, thous, tenthous, hunderedthous, mill, tenmill])"
   ]
  },
  {
   "cell_type": "code",
   "execution_count": 21,
   "metadata": {},
   "outputs": [
    {
     "name": "stdout",
     "output_type": "stream",
     "text": [
      "104.1 µs ± 0 ns per loop (mean ± std. dev. of 1 run, 1 loop each)\n",
      "1.3774 ms ± 0 ns per loop (mean ± std. dev. of 1 run, 1 loop each)\n",
      "17.3063 ms ± 0 ns per loop (mean ± std. dev. of 1 run, 1 loop each)\n",
      "209.4777 ms ± 0 ns per loop (mean ± std. dev. of 1 run, 1 loop each)\n",
      "2.4993351 s ± 0 ns per loop (mean ± std. dev. of 1 run, 1 loop each)\n",
      "29.069426 s ± 0 ns per loop (mean ± std. dev. of 1 run, 1 loop each)\n"
     ]
    }
   ],
   "source": [
    "# Sorted arrays\n",
    "hundred, thous, tenthous, hunderedthous, mill, tenmill = deepcopy(sortedArrays)\n",
    "timeMerge([hundred, thous, tenthous, hunderedthous, mill, tenmill])"
   ]
  },
  {
   "cell_type": "markdown",
   "metadata": {},
   "source": [
    "**Random Pivot Quicksort**"
   ]
  },
  {
   "cell_type": "code",
   "execution_count": 22,
   "metadata": {},
   "outputs": [
    {
     "name": "stdout",
     "output_type": "stream",
     "text": [
      "128.8 µs ± 0 ns per loop (mean ± std. dev. of 1 run, 1 loop each)\n",
      "1.6539 ms ± 0 ns per loop (mean ± std. dev. of 1 run, 1 loop each)\n",
      "19.8585 ms ± 0 ns per loop (mean ± std. dev. of 1 run, 1 loop each)\n",
      "214.9656 ms ± 0 ns per loop (mean ± std. dev. of 1 run, 1 loop each)\n",
      "2.767664 s ± 0 ns per loop (mean ± std. dev. of 1 run, 1 loop each)\n",
      "32.758575 s ± 0 ns per loop (mean ± std. dev. of 1 run, 1 loop each)\n"
     ]
    }
   ],
   "source": [
    "# Unique random arrays\n",
    "hundred, thous, tenthous, hunderedthous, mill, tenmill = deepcopy(uRandomArrays)\n",
    "timeQSR([hundred, thous, tenthous, hunderedthous, mill, tenmill])"
   ]
  },
  {
   "cell_type": "code",
   "execution_count": 23,
   "metadata": {},
   "outputs": [
    {
     "name": "stdout",
     "output_type": "stream",
     "text": [
      "134.3 µs ± 0 ns per loop (mean ± std. dev. of 1 run, 1 loop each)\n",
      "1.6888 ms ± 0 ns per loop (mean ± std. dev. of 1 run, 1 loop each)\n",
      "20.9363 ms ± 0 ns per loop (mean ± std. dev. of 1 run, 1 loop each)\n",
      "255.8894 ms ± 0 ns per loop (mean ± std. dev. of 1 run, 1 loop each)\n",
      "3.1330731 s ± 0 ns per loop (mean ± std. dev. of 1 run, 1 loop each)\n",
      "35.524468 s ± 0 ns per loop (mean ± std. dev. of 1 run, 1 loop each)\n"
     ]
    }
   ],
   "source": [
    "# Duplicate random elements\n",
    "hundred, thous, tenthous, hunderedthous, mill, tenmill = deepcopy(dRandomArrays)\n",
    "timeQSR([hundred, thous, tenthous, hunderedthous, mill, tenmill])"
   ]
  },
  {
   "cell_type": "code",
   "execution_count": 24,
   "metadata": {},
   "outputs": [
    {
     "name": "stdout",
     "output_type": "stream",
     "text": [
      "272.2 µs ± 0 ns per loop (mean ± std. dev. of 1 run, 1 loop each)\n",
      "22.1565 ms ± 0 ns per loop (mean ± std. dev. of 1 run, 1 loop each)\n"
     ]
    }
   ],
   "source": [
    "# Sorted arrays (10,000+ exceeds call stack depth also)\n",
    "hundred, thous, tenthous, hunderedthous, mill, tenmill = deepcopy(sortedArrays)\n",
    "timeQSR([hundred, thous])"
   ]
  },
  {
   "cell_type": "markdown",
   "metadata": {},
   "source": [
    "**Insert-Quicksort (Lomuto Partition)**"
   ]
  },
  {
   "cell_type": "code",
   "execution_count": 25,
   "metadata": {},
   "outputs": [
    {
     "name": "stdout",
     "output_type": "stream",
     "text": [
      "54.8 µs ± 0 ns per loop (mean ± std. dev. of 1 run, 1 loop each)\n",
      "975.9 µs ± 0 ns per loop (mean ± std. dev. of 1 run, 1 loop each)\n",
      "11.3049 ms ± 0 ns per loop (mean ± std. dev. of 1 run, 1 loop each)\n",
      "148.6513 ms ± 0 ns per loop (mean ± std. dev. of 1 run, 1 loop each)\n",
      "2.0902237 s ± 0 ns per loop (mean ± std. dev. of 1 run, 1 loop each)\n",
      "28.766514 s ± 0 ns per loop (mean ± std. dev. of 1 run, 1 loop each)\n"
     ]
    }
   ],
   "source": [
    "# Unique random arrays\n",
    "hundred, thous, tenthous, hunderedthous, mill, tenmill = deepcopy(uRandomArrays)\n",
    "timeQI([hundred, thous, tenthous, hunderedthous, mill, tenmill])"
   ]
  },
  {
   "cell_type": "code",
   "execution_count": 26,
   "metadata": {},
   "outputs": [
    {
     "name": "stdout",
     "output_type": "stream",
     "text": [
      "47.3 µs ± 0 ns per loop (mean ± std. dev. of 1 run, 1 loop each)\n",
      "844.9 µs ± 0 ns per loop (mean ± std. dev. of 1 run, 1 loop each)\n",
      "12.035 ms ± 0 ns per loop (mean ± std. dev. of 1 run, 1 loop each)\n",
      "155.6007 ms ± 0 ns per loop (mean ± std. dev. of 1 run, 1 loop each)\n",
      "2.0021797 s ± 0 ns per loop (mean ± std. dev. of 1 run, 1 loop each)\n",
      "28.701164 s ± 0 ns per loop (mean ± std. dev. of 1 run, 1 loop each)\n"
     ]
    }
   ],
   "source": [
    "# Duplicate random elements\n",
    "hundred, thous, tenthous, hunderedthous, mill, tenmill = deepcopy(dRandomArrays)\n",
    "timeQI([hundred, thous, tenthous, hunderedthous, mill, tenmill])"
   ]
  },
  {
   "cell_type": "code",
   "execution_count": 27,
   "metadata": {},
   "outputs": [
    {
     "name": "stdout",
     "output_type": "stream",
     "text": [
      "446.9 µs ± 0 ns per loop (mean ± std. dev. of 1 run, 1 loop each)\n",
      "43.0411 ms ± 0 ns per loop (mean ± std. dev. of 1 run, 1 loop each)\n",
      "4.4050558 s ± 0 ns per loop (mean ± std. dev. of 1 run, 1 loop each)\n"
     ]
    }
   ],
   "source": [
    "# Sorted arrays\n",
    "hundred, thous, tenthous, hunderedthous, mill, tenmill = deepcopy(sortedArrays)\n",
    "timeQI([hundred, thous, tenthous])"
   ]
  },
  {
   "cell_type": "markdown",
   "metadata": {},
   "source": [
    "___\n",
    "### Space"
   ]
  },
  {
   "cell_type": "markdown",
   "metadata": {},
   "source": [
    "**Quicksort**"
   ]
  },
  {
   "cell_type": "code",
   "execution_count": 28,
   "metadata": {},
   "outputs": [],
   "source": [
    "limit = [getrecursionlimit()] # Maximum call stack depth of kernel\n",
    "maxStack = [0]                # Deepest stack point of function"
   ]
  },
  {
   "cell_type": "code",
   "execution_count": 29,
   "metadata": {},
   "outputs": [
    {
     "name": "stdout",
     "output_type": "stream",
     "text": [
      "45\n",
      "59\n",
      "66\n",
      "78\n",
      "86\n",
      "98\n"
     ]
    }
   ],
   "source": [
    "# Unique random arrays\n",
    "hundred, thous, tenthous, hunderedthous, mill, tenmill\\\n",
    "= deepcopy(uRandomArrays)\n",
    "getDepths([hundred, thous, tenthous, hunderedthous, mill, tenmill])"
   ]
  },
  {
   "cell_type": "code",
   "execution_count": 30,
   "metadata": {},
   "outputs": [
    {
     "name": "stdout",
     "output_type": "stream",
     "text": [
      "47\n",
      "54\n",
      "67\n",
      "78\n",
      "88\n",
      "97\n"
     ]
    }
   ],
   "source": [
    "# Duplicate random arrays\n",
    "hundred, thous, tenthous, hunderedthous, mill, tenmill = deepcopy(dRandomArrays)\n",
    "getDepths([hundred, thous, tenthous, hunderedthous, mill, tenmill])"
   ]
  },
  {
   "cell_type": "code",
   "execution_count": 31,
   "metadata": {},
   "outputs": [
    {
     "name": "stdout",
     "output_type": "stream",
     "text": [
      "132\n",
      "1032\n"
     ]
    },
    {
     "name": "stderr",
     "output_type": "stream",
     "text": [
      "Stopped approaching max depth."
     ]
    },
    {
     "name": "stdout",
     "output_type": "stream",
     "text": [
      "2500\n"
     ]
    },
    {
     "name": "stderr",
     "output_type": "stream",
     "text": [
      "Stopped approaching max depth."
     ]
    },
    {
     "name": "stdout",
     "output_type": "stream",
     "text": [
      "2500\n"
     ]
    },
    {
     "name": "stderr",
     "output_type": "stream",
     "text": [
      "Stopped approaching max depth."
     ]
    },
    {
     "name": "stdout",
     "output_type": "stream",
     "text": [
      "2500\n",
      "2500\n"
     ]
    },
    {
     "name": "stderr",
     "output_type": "stream",
     "text": [
      "Stopped approaching max depth."
     ]
    }
   ],
   "source": [
    "# Sorted arrays\n",
    "hundred, thous, tenthous, hunderedthous, mill, tenmill = deepcopy(sortedArrays)\n",
    "getDepths([hundred, thous, tenthous, hunderedthous, mill, tenmill])"
   ]
  },
  {
   "cell_type": "markdown",
   "metadata": {},
   "source": [
    "<br>"
   ]
  }
 ],
 "metadata": {
  "kernelspec": {
   "display_name": "Python 3",
   "language": "python",
   "name": "python3"
  },
  "language_info": {
   "codemirror_mode": {
    "name": "ipython",
    "version": 3
   },
   "file_extension": ".py",
   "mimetype": "text/x-python",
   "name": "python",
   "nbconvert_exporter": "python",
   "pygments_lexer": "ipython3",
   "version": "3.8.8"
  }
 },
 "nbformat": 4,
 "nbformat_minor": 4
}
